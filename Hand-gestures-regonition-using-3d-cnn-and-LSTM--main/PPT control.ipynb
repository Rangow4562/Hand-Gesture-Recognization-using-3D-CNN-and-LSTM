{
 "cells": [
  {
   "cell_type": "code",
   "execution_count": null,
   "id": "0057517a-84ef-446a-8def-eb1945acb5f0",
   "metadata": {},
   "outputs": [],
   "source": [
    "import tensorflow as tf\n",
    "print(tf.__version__)\n",
    "import numpy as np\n",
    "import cv2\n",
    "from sklearn.preprocessing import StandardScaler\n",
    "from time import sleep\n",
    "import os\n",
    "import cvzone\n",
    "from cvzone.SelfiSegmentationModule import SelfiSegmentation"
   ]
  },
  {
   "cell_type": "code",
   "execution_count": null,
   "id": "2f114d76-1f06-446d-a996-ebdc1801a241",
   "metadata": {},
   "outputs": [],
   "source": [
    "classes = [\n",
    "    'Doing other things',\n",
    "    'Swiping Right',\n",
    "    'Swiping Left',\n",
    "    'Zooming In With Two Fingers',\n",
    "    'Zooming Out With Two Fingers',\n",
    "    'Stop Sign',\n",
    "    'No gesture'\n",
    "]"
   ]
  },
  {
   "cell_type": "code",
   "execution_count": null,
   "id": "b8341aeb-4418-4192-a533-1f1168cecb80",
   "metadata": {},
   "outputs": [],
   "source": [
    "classes[1]"
   ]
  },
  {
   "cell_type": "code",
   "execution_count": null,
   "id": "1ccad9a6-5490-4ce2-9b96-92d558c1c943",
   "metadata": {},
   "outputs": [],
   "source": [
    "def rgb2gray(rgb):\n",
    "    return np.dot(rgb[...,:3], [0.2989, 0.5870, 0.1140])"
   ]
  },
  {
   "cell_type": "code",
   "execution_count": null,
   "id": "a8cfede4-f4ed-4efd-83db-f5a9da19cd9f",
   "metadata": {},
   "outputs": [],
   "source": [
    "def normaliz_data(np_data):\n",
    "    # Normalisation\n",
    "    scaler = StandardScaler()\n",
    "    #scaled_images  = normaliz_data2(np_data)\n",
    "    scaled_images  = np_data.reshape(-1, 30, 64, 64, 1)\n",
    "    return scaled_images"
   ]
  },
  {
   "cell_type": "code",
   "execution_count": null,
   "id": "b3f8db38-7066-43fb-86ec-751a2f8cc96f",
   "metadata": {},
   "outputs": [],
   "source": [
    "def normaliz_data2(v):\n",
    "    normalized_v = v / np.sqrt(np.sum(v**2))\n",
    "    return normalized_v"
   ]
  },
  {
   "cell_type": "code",
   "execution_count": null,
   "id": "b5b25a3b-2e4c-43fb-a76c-8580a6b3c80d",
   "metadata": {},
   "outputs": [],
   "source": [
    "class Conv3DModel(tf.keras.Model):\n",
    "    def __init__(self):\n",
    "        super(Conv3DModel, self).__init__()\n",
    "        self.conv1 = tf.compat.v2.keras.layers.Conv3D(32, (3, 3, 3), activation='relu', name=\"conv1\", data_format='channels_last')\n",
    "        self.pool1 = tf.keras.layers.MaxPool3D(pool_size=(2, 2, 2), data_format='channels_last')\n",
    "        self.conv2 = tf.compat.v2.keras.layers.Conv3D(64, (3, 3, 3), activation='relu', name=\"conv1\", data_format='channels_last')\n",
    "        self.pool2 = tf.keras.layers.MaxPool3D(pool_size=(2, 2,2), data_format='channels_last')\n",
    "        self.convLSTM =tf.keras.layers.ConvLSTM2D(40, (3, 3))\n",
    "    #norm\n",
    "        self.flatten =  tf.keras.layers.Flatten(name=\"flatten\")\n",
    "\n",
    "    # Dense layers\n",
    "        self.d1 = tf.keras.layers.Dense(128, activation='relu', name=\"d1\")\n",
    "        self.out = tf.keras.layers.Dense(7, activation='softmax', name=\"output\")\n",
    "        \n",
    "        \n",
    "    def call(self, x):\n",
    "        x = self.conv1(x)\n",
    "        x = self.pool1(x)\n",
    "        x = self.conv2(x)\n",
    "        x = self.pool2(x)\n",
    "        x = self.convLSTM(x)\n",
    "        x = self.flatten(x)\n",
    "        x = self.d1(x)\n",
    "        return self.out(x)"
   ]
  },
  {
   "cell_type": "code",
   "execution_count": null,
   "id": "66ad33f0-9740-4fbc-9839-25f9f2829495",
   "metadata": {},
   "outputs": [],
   "source": [
    "model1 = Conv3DModel()\n",
    "model1.compile(loss='sparse_categorical_crossentropy',\n",
    "                  optimizer=tf.keras.optimizers.RMSprop())"
   ]
  },
  {
   "cell_type": "code",
   "execution_count": null,
   "id": "17e74a83-aa82-4913-beeb-0eb0353a8184",
   "metadata": {},
   "outputs": [],
   "source": [
    "model2 = Conv3DModel()\n",
    "model2.compile(loss='sparse_categorical_crossentropy',\n",
    "                  optimizer=tf.keras.optimizers.RMSprop())"
   ]
  },
  {
   "cell_type": "code",
   "execution_count": null,
   "id": "c93143d8-ae6a-4489-8f70-8fac4c13ccf1",
   "metadata": {},
   "outputs": [],
   "source": [
    "model1.load_weights('D:/3D-CNN/D/FinalModel/3D-CNN_LSTM_weights')"
   ]
  },
  {
   "cell_type": "code",
   "execution_count": null,
   "id": "4e7c2894-0c2e-43d2-b82e-8d4dc613a65e",
   "metadata": {},
   "outputs": [],
   "source": [
    "model2.load_weights('D:/3D-CNN/D/All_Models/3D-CNN_LSTM_Adv_weights')"
   ]
  },
  {
   "cell_type": "code",
   "execution_count": null,
   "id": "3a14ba4b-5918-46dc-a574-1aff6571af40",
   "metadata": {},
   "outputs": [],
   "source": [
    "font = cv2.FONT_HERSHEY_SIMPLEX"
   ]
  },
  {
   "cell_type": "code",
   "execution_count": null,
   "id": "54caa83a-14a9-46d5-bf0e-e0c796aeeb4d",
   "metadata": {},
   "outputs": [],
   "source": [
    "class switch_1():\n",
    "    def index_threshhold(conf, classes , pre):\n",
    "        if classe == 0:\n",
    "            print(conf[0])\n",
    "            if pre == 0:\n",
    "                return(classe)\n",
    "            else:\n",
    "                return(5)\n",
    "        elif classe == 1:\n",
    "            print(conf[0])\n",
    "            if conf[0] >0.85:\n",
    "                return(classe)\n",
    "            else:\n",
    "                return(6)\n",
    "        elif classe ==  2 :\n",
    "            print(conf[0])\n",
    "            if conf[0] >0.85:\n",
    "                return(classe)\n",
    "            else:\n",
    "                return(6)\n",
    "        elif classe == 3:\n",
    "            print(conf[0])\n",
    "            if conf[0] >0.85:\n",
    "                return(classe)\n",
    "            else:\n",
    "                return(6)\n",
    "        elif classe == 4:\n",
    "            print(conf[0])\n",
    "            if conf[0] >0.85:\n",
    "                return(classe)\n",
    "            else:\n",
    "                return(6)\n",
    "        elif classe == 5:\n",
    "            print(conf[0])\n",
    "            if conf[0] >0.85:\n",
    "                return(classe)\n",
    "            else:\n",
    "                return(6)\n",
    "        elif classe == 6:\n",
    "                return(6)\n",
    "    def puttext_on(conf, index, classes,frame, font):   \n",
    "        cv2.putText(frame, 'confidence: ' + str(conf), (10, 90), font, 0.7, (56, 71, 255), 2, 1)\n",
    "        cv2.putText(frame, 'gesture class: ' + classe , (10, 60), font, 0.7, (56, 71, 255), 2, 1)"
   ]
  },
  {
   "cell_type": "code",
   "execution_count": null,
   "id": "3eb60530-b84f-44a1-8214-138830d21612",
   "metadata": {},
   "outputs": [],
   "source": [
    "cap.release()\n",
    "cv2.destroyAllWindows()"
   ]
  },
  {
   "cell_type": "code",
   "execution_count": null,
   "id": "3d865c67-64ac-4688-95dd-267568cce7af",
   "metadata": {},
   "outputs": [],
   "source": [
    "# Control for PPT:\n",
    "\n",
    "import time\n",
    "import pyautogui\n",
    "to_predict = []\n",
    "num_frames = 0\n",
    "cap = cv2.VideoCapture(0)\n",
    "cap.set(3, 640)\n",
    "cap.set(4, 480)\n",
    "pTime = 0\n",
    "cTime = 0\n",
    "cap_region_x_begin = 0.5  \n",
    "cap_region_y_end = 0.8  \n",
    "threshold = 60  \n",
    "blurValue = 41 \n",
    "bgSubThreshold = 50\n",
    "learningRate = 0\n",
    "pre = 0\n",
    "conf = 0\n",
    "\n",
    "segmentor = SelfiSegmentation()\n",
    "classe =''\n",
    "while(True):\n",
    "    # Capture frame-by-frame\n",
    "    ret, frame = cap.read()\n",
    "    bgModel = cv2.createBackgroundSubtractorMOG2(0, bgSubThreshold)\n",
    "    fgmask = bgModel.apply(frame)\n",
    "    res = cv2.bitwise_and(frame, frame, mask=fgmask)\n",
    "    gray = cv2.cvtColor(res, cv2.COLOR_BGR2GRAY)\n",
    "    to_predict.append(cv2.resize(gray, (64, 64)))\n",
    "    \n",
    "    \n",
    "        \n",
    "    if len(to_predict) == 30:\n",
    "        frame_to_predict = np.array(to_predict, dtype=np.float32)\n",
    "        frame_to_predict = normaliz_data(frame_to_predict)\n",
    "        result_1 = model1.predict(frame_to_predict)\n",
    "        result_2 = model2.predict(frame_to_predict)\n",
    "        result_3 = model3.predict(frame_to_predict)\n",
    "        result_4 = model4.predict(frame_to_predict)\n",
    "        \n",
    "        # print(result)\n",
    "        classe = classes[np.argmax(result_1+result_2)]\n",
    "        predict = np.amax((result_1+result_2)/2)\n",
    "        print(classe,(predict)*100,'%')\n",
    "        if(classe == \"Swiping Left\"):\n",
    "                pyautogui.press('left', presses = 1)\n",
    "\n",
    "        elif(classe == \"Swiping Right\"):\n",
    "                pyautogui.press('right', presses = 1)\n",
    "\n",
    "        elif(classe == \"Zooming In With Two Fingers\"):\n",
    "                pyautogui.hotkey('shift','f5')\n",
    "                \n",
    "        elif(classe == \"Zooming Out With Two Fingers\"):\n",
    "                pyautogui.press('esc')\n",
    "                \n",
    "        elif(classe == \"Doing other things\"):\n",
    "                pyautogui.press('None')\n",
    "\n",
    "        else:\n",
    "            pyautogui.press('None')\n",
    "\n",
    "        to_predict = []\n",
    "        real_index = switch_1.index_threshhold(predict, classe ,pre)\n",
    "        # instruction = switch_1.controll_PC(real_index)\n",
    "        pre = classes[0]\n",
    "    switch_1.puttext_on(predict, real_index, classes[6], frame, font)\n",
    "    cv2.putText(frame, 'FPS: ' + str(int(fps)), (10, 30), cv2.FONT_HERSHEY_SIMPLEX, 0.7, (56, 71, 255), 2, 1)\n",
    "    cTime = time.time()\n",
    "    fps = 1 / (cTime - pTime)\n",
    "    pTime = cTime    \n",
    "    cv2.imshow('Hand Gesture Recognition',frame)\n",
    "    if cv2.waitKey(1) & 0xFF == ord('q'):\n",
    "        break\n",
    "cap.release\n",
    "cv2.destroyAllWindows()"
   ]
  },
  {
   "cell_type": "code",
   "execution_count": null,
   "id": "aa7aa74f-10f1-49ba-9ef0-911b6406e43b",
   "metadata": {},
   "outputs": [],
   "source": []
  }
 ],
 "metadata": {
  "kernelspec": {
   "display_name": "Python 3",
   "language": "python",
   "name": "python3"
  },
  "language_info": {
   "codemirror_mode": {
    "name": "ipython",
    "version": 3
   },
   "file_extension": ".py",
   "mimetype": "text/x-python",
   "name": "python",
   "nbconvert_exporter": "python",
   "pygments_lexer": "ipython3",
   "version": "3.8.10"
  }
 },
 "nbformat": 4,
 "nbformat_minor": 5
}
