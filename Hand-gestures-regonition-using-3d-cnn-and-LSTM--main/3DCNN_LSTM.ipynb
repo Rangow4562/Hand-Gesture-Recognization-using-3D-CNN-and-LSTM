{
 "cells": [
  {
   "cell_type": "code",
   "execution_count": 1,
   "id": "f559cf9a-7376-4c56-86b2-8ed5ebd8b44f",
   "metadata": {},
   "outputs": [],
   "source": [
    "import numpy as np\n",
    "import cv2\n",
    "import tensorflow as tf\n",
    "import matplotlib.pyplot as plt"
   ]
  },
  {
   "cell_type": "code",
   "execution_count": 2,
   "id": "29e1c947-b186-4723-a2ce-1b5d78b23702",
   "metadata": {},
   "outputs": [
    {
     "name": "stdout",
     "output_type": "stream",
     "text": [
      "[name: \"/device:CPU:0\"\n",
      "device_type: \"CPU\"\n",
      "memory_limit: 268435456\n",
      "locality {\n",
      "}\n",
      "incarnation: 2682655455280408568\n",
      "]\n"
     ]
    }
   ],
   "source": [
    "from tensorflow.python.client import device_lib \n",
    "print(device_lib.list_local_devices())"
   ]
  },
  {
   "cell_type": "code",
   "execution_count": 3,
   "id": "54749ab1-1867-44bb-9f70-46dbb07dba98",
   "metadata": {},
   "outputs": [],
   "source": [
    "import os\n",
    "import math\n",
    "import matplotlib.image as img\n",
    "import matplotlib.pyplot as plt\n",
    "import pandas as pd\n",
    "from sklearn.preprocessing import StandardScaler"
   ]
  },
  {
   "cell_type": "code",
   "execution_count": 4,
   "id": "570b84b3-e946-493d-b9bd-56d97e1a0301",
   "metadata": {},
   "outputs": [],
   "source": [
    "def rgb2gray(rgb):\n",
    "    return np.dot(rgb[...,:3], [0.2989, 0.5870, 0.1140])"
   ]
  },
  {
   "cell_type": "code",
   "execution_count": 5,
   "id": "dc6f1802-7958-4277-a71f-4b90d9a48a28",
   "metadata": {},
   "outputs": [],
   "source": [
    "targets = pd.read_csv('D:/3D-CNN/D/jester-v1-train.csv', index_col=0, squeeze=True, header=None,sep = \";\").to_dict()\n",
    "\n",
    "targets_validation = pd.read_csv('D:/3D-CNN/D/jester-v1-validation.csv' ,index_col=0, squeeze=True, header=None,sep = \";\").to_dict()"
   ]
  },
  {
   "cell_type": "code",
   "execution_count": 6,
   "id": "4e6fe373-f0e0-426f-97cd-c71454fc8d4c",
   "metadata": {},
   "outputs": [
    {
     "data": {
      "text/plain": [
       "118562"
      ]
     },
     "execution_count": 6,
     "metadata": {},
     "output_type": "execute_result"
    }
   ],
   "source": [
    "len(targets)"
   ]
  },
  {
   "cell_type": "code",
   "execution_count": 7,
   "id": "8bb84eef-bcc7-4a1a-88fd-0c8e18264f4d",
   "metadata": {},
   "outputs": [],
   "source": [
    "targets_name = [\n",
    "    'Doing other things',\n",
    "    'Swiping Right',\n",
    "    'Swiping Left',\n",
    "    'Zooming In With Two Fingers',\n",
    "    'Zooming Out With Two Fingers',\n",
    "    'Stop Sign',\n",
    "    'No gesture'\n",
    "]"
   ]
  },
  {
   "cell_type": "code",
   "execution_count": 8,
   "id": "9618c5d6-9e70-4444-bad6-7a5f323bfc1d",
   "metadata": {},
   "outputs": [],
   "source": [
    "path = \"D:/3D-CNN/D/final_train_set/\"\n",
    "path_cv = \"D:/3D-CNN/D/final_valid_set/\"\n",
    "\n",
    "dirs = os.listdir(path)\n",
    "dirs_cv = os.listdir(path_cv)"
   ]
  },
  {
   "cell_type": "code",
   "execution_count": 9,
   "id": "cd36ac4e-82ce-40c7-b0d7-fb19b43ee6a1",
   "metadata": {},
   "outputs": [
    {
     "name": "stdout",
     "output_type": "stream",
     "text": [
      "11500\n",
      "3601\n"
     ]
    }
   ],
   "source": [
    "print(len(dirs))\n",
    "print(len(dirs_cv))"
   ]
  },
  {
   "cell_type": "code",
   "execution_count": 10,
   "id": "bdae348a-5001-4fcd-a4d9-b95af958e5a4",
   "metadata": {},
   "outputs": [],
   "source": [
    "training_count = 10"
   ]
  },
  {
   "cell_type": "code",
   "execution_count": 11,
   "id": "f0b630c6-9851-4a35-958b-0a5687e0b997",
   "metadata": {},
   "outputs": [],
   "source": [
    "hm_frames = 32 \n",
    "def get_unify_frames(path):\n",
    "    offset = 0\n",
    "    frames = os.listdir(path)\n",
    "    frames_count = len(frames)\n",
    "    if hm_frames > frames_count:\n",
    "        frames += [frames[-1]] * (hm_frames - frames_count)\n",
    "    elif hm_frames < frames_count:\n",
    "        frames = frames[0:hm_frames]\n",
    "    return frames  "
   ]
  },
  {
   "cell_type": "code",
   "execution_count": 12,
   "id": "60448fca-c37b-49b0-ba81-518ad63535cc",
   "metadata": {},
   "outputs": [],
   "source": [
    "def resize_frame(frame):\n",
    "    frame = img.imread(frame)\n",
    "    frame = cv2.resize(frame, (64, 64))\n",
    "    return frame\n",
    "    "
   ]
  },
  {
   "cell_type": "code",
   "execution_count": 13,
   "id": "83b473a1-1ece-4ddd-bdc2-8cf9ee9bbaa7",
   "metadata": {},
   "outputs": [
    {
     "name": "stdout",
     "output_type": "stream",
     "text": [
      "Wall time: 53min 57s\n"
     ]
    }
   ],
   "source": [
    "%%time\n",
    "counter_training = 0 \n",
    "training_targets = []\n",
    "new_frames = [] \n",
    "for directory in dirs:\n",
    "    new_frame = []\n",
    "    \n",
    "    frames = get_unify_frames(path+directory)\n",
    "    if len(frames) == hm_frames: \n",
    "        for frame in frames:\n",
    "            frame = resize_frame(path+directory+'/'+frame)\n",
    "            new_frame.append(rgb2gray(frame))\n",
    "            if len(new_frame) == 15: \n",
    "                new_frames.append(new_frame) \n",
    "                training_targets.append(targets_name.index(targets[int(directory)]))\n",
    "                counter_training +=1\n",
    "                new_frame = []"
   ]
  },
  {
   "cell_type": "code",
   "execution_count": 14,
   "id": "cd98cf11-222a-47fa-b795-163baad06d32",
   "metadata": {},
   "outputs": [
    {
     "name": "stdout",
     "output_type": "stream",
     "text": [
      "Wall time: 25min 59s\n"
     ]
    }
   ],
   "source": [
    "%%time\n",
    "counter_validation = 0\n",
    "cv_targets = []\n",
    "new_frames_cv = []\n",
    "for directory in dirs_cv:\n",
    "    new_frame = []\n",
    "   \n",
    "    frames = get_unify_frames(path_cv+directory)\n",
    "    if len(frames)==hm_frames:\n",
    "        for frame in frames:\n",
    "            frame = resize_frame(path_cv+directory+'/'+frame)\n",
    "            new_frame.append(rgb2gray(frame))\n",
    "            if len(new_frame) == 15:\n",
    "                new_frames_cv.append(new_frame)\n",
    "                cv_targets.append(targets_name.index(targets_validation[int(directory)]))\n",
    "                counter_validation +=1\n",
    "                new_frame = []"
   ]
  },
  {
   "cell_type": "code",
   "execution_count": 15,
   "id": "0f49a866-38f7-4673-ac29-09a165c9c110",
   "metadata": {},
   "outputs": [
    {
     "name": "stdout",
     "output_type": "stream",
     "text": [
      "23000\n",
      "23000\n"
     ]
    }
   ],
   "source": [
    "print(len(new_frames))\n",
    "print(len(training_targets))"
   ]
  },
  {
   "cell_type": "code",
   "execution_count": 16,
   "id": "4ffddca5-5aec-4723-b874-452febe08a05",
   "metadata": {},
   "outputs": [
    {
     "name": "stdout",
     "output_type": "stream",
     "text": [
      "7202\n",
      "7202\n"
     ]
    }
   ],
   "source": [
    "print(len(new_frames_cv))\n",
    "print(len(cv_targets))"
   ]
  },
  {
   "cell_type": "code",
   "execution_count": 17,
   "id": "36ed80b0-63b3-4809-afdf-b25cf5aa0e1e",
   "metadata": {},
   "outputs": [
    {
     "data": {
      "text/plain": [
       "list"
      ]
     },
     "execution_count": 17,
     "metadata": {},
     "output_type": "execute_result"
    }
   ],
   "source": [
    "type(cv_targets)"
   ]
  },
  {
   "cell_type": "code",
   "execution_count": 17,
   "id": "e3478c9b-939a-4ce5-8081-37e17238251d",
   "metadata": {},
   "outputs": [
    {
     "data": {
      "text/plain": [
       "[1, 1, 5, 5, 6, 6, 0, 0, 1, 1, 2, 2, 2, 2, 0, 0, 2, 2, 4, 4]"
      ]
     },
     "execution_count": 17,
     "metadata": {},
     "output_type": "execute_result"
    }
   ],
   "source": [
    "training_targets[0:20]"
   ]
  },
  {
   "cell_type": "code",
   "execution_count": 18,
   "id": "c7eb6968-b3fe-4b41-8d63-e34ac6ab5123",
   "metadata": {},
   "outputs": [
    {
     "data": {
      "image/png": "[encoded data removed]",
      "text/plain": [
       "<Figure size 432x288 with 15 Axes>"
      ]
     },
     "metadata": {
      "needs_background": "light"
     },
     "output_type": "display_data"
    },
    {
     "data": {
      "image/png": "[encoded data removed]",
      "text/plain": [
       "<Figure size 432x288 with 15 Axes>"
      ]
     },
     "metadata": {
      "needs_background": "light"
     },
     "output_type": "display_data"
    },
    {
     "data": {
      "text/plain": [
       "<Figure size 432x288 with 0 Axes>"
      ]
     },
     "metadata": {},
     "output_type": "display_data"
    }
   ],
   "source": [
    "fig = plt.figure()\n",
    "for i in range(2,4):\n",
    "    for num,frame in enumerate(new_frames[i][0:18]):\n",
    "        y = fig.add_subplot(4,5,num+1)\n",
    "        y.imshow(frame, cmap='gray')\n",
    "    fig = plt.figure()\n",
    "plt.show()"
   ]
  },
  {
   "cell_type": "code",
   "execution_count": 19,
   "id": "27f93aa9-6672-4c25-a6ce-d46207a55666",
   "metadata": {},
   "outputs": [
    {
     "name": "stdout",
     "output_type": "stream",
     "text": [
      "Wall time: 9min 49s\n"
     ]
    }
   ],
   "source": [
    "%%time\n",
    "training_data = np.array(new_frames[0:counter_training], dtype=np.float32)"
   ]
  },
  {
   "cell_type": "code",
   "execution_count": 20,
   "id": "be6e992c-788f-4044-8370-fe5c6e7731ac",
   "metadata": {},
   "outputs": [],
   "source": [
    "def release_list(a):\n",
    "    del a[:]\n",
    "    del a"
   ]
  },
  {
   "cell_type": "code",
   "execution_count": 21,
   "id": "cd8f43ba-47b7-413b-8bfa-5bc0d2705a7b",
   "metadata": {},
   "outputs": [
    {
     "name": "stdout",
     "output_type": "stream",
     "text": [
      "Wall time: 8min 45s\n"
     ]
    }
   ],
   "source": [
    "%%time\n",
    "release_list(new_frames)"
   ]
  },
  {
   "cell_type": "code",
   "execution_count": 22,
   "id": "e8257f1a-1505-4982-ac8c-671f95509d5a",
   "metadata": {},
   "outputs": [
    {
     "name": "stdout",
     "output_type": "stream",
     "text": [
      "Wall time: 1min 19s\n",
      "Compiler : 552 ms\n",
      "Parser   : 805 ms\n"
     ]
    }
   ],
   "source": [
    "%%time\n",
    "cv_data = np.array(new_frames_cv[0:counter_validation], dtype=np.float32)"
   ]
  },
  {
   "cell_type": "code",
   "execution_count": 23,
   "id": "b209cd05-6c53-4575-8083-ff8a282b31c9",
   "metadata": {},
   "outputs": [
    {
     "name": "stdout",
     "output_type": "stream",
     "text": [
      "Wall time: 59.2 s\n"
     ]
    }
   ],
   "source": [
    "%%time\n",
    "release_list(new_frames_cv)"
   ]
  },
  {
   "cell_type": "code",
   "execution_count": 24,
   "id": "a724cc6c-f7d5-4e57-86a1-0c0d40022e77",
   "metadata": {},
   "outputs": [
    {
     "data": {
      "text/plain": [
       "(23000, 15, 64, 64)"
      ]
     },
     "execution_count": 24,
     "metadata": {},
     "output_type": "execute_result"
    }
   ],
   "source": [
    "training_data.shape"
   ]
  },
  {
   "cell_type": "code",
   "execution_count": 25,
   "id": "3dda7a49-9b87-494e-8c75-dd63ce62ec58",
   "metadata": {},
   "outputs": [
    {
     "data": {
      "text/plain": [
       "(7202, 15, 64, 64)"
      ]
     },
     "execution_count": 25,
     "metadata": {},
     "output_type": "execute_result"
    }
   ],
   "source": [
    "cv_data.shape"
   ]
  },
  {
   "cell_type": "code",
   "execution_count": 26,
   "id": "afa50d1a-053d-4041-8fe2-9d72a92a6ef1",
   "metadata": {},
   "outputs": [
    {
     "name": "stdout",
     "output_type": "stream",
     "text": [
      "old mean 109.11762\n",
      "Wall time: 9.17 s\n"
     ]
    }
   ],
   "source": [
    "%%time\n",
    "print('old mean', training_data.mean())"
   ]
  },
  {
   "cell_type": "code",
   "execution_count": 27,
   "id": "31f29ab5-2b0f-4b86-9487-0aa0408dba34",
   "metadata": {},
   "outputs": [
    {
     "name": "stdout",
     "output_type": "stream",
     "text": [
      "new mean 1.2156843e-08\n",
      "Wall time: 1min 53s\n",
      "Parser   : 280 ms\n"
     ]
    }
   ],
   "source": [
    "%%time\n",
    "scaler = StandardScaler()\n",
    "scaled_images  = scaler.fit_transform(training_data.reshape(-1, 15*64*64))\n",
    "print('new mean', scaled_images.mean())"
   ]
  },
  {
   "cell_type": "code",
   "execution_count": 28,
   "id": "a4f179bb-e2c8-4598-ba7b-ed787bb1acca",
   "metadata": {},
   "outputs": [
    {
     "name": "stdout",
     "output_type": "stream",
     "text": [
      "(23000, 15, 64, 64, 1)\n",
      "Wall time: 0 ns\n"
     ]
    }
   ],
   "source": [
    "%%time\n",
    "scaled_images  = scaled_images.reshape(-1, 15, 64, 64, 1)\n",
    "print(scaled_images.shape)"
   ]
  },
  {
   "cell_type": "code",
   "execution_count": 29,
   "id": "7d17bc3e-3c5b-4257-846b-2842f1646618",
   "metadata": {},
   "outputs": [
    {
     "name": "stdout",
     "output_type": "stream",
     "text": [
      "old mean 107.752235\n",
      "Wall time: 1min 41s\n"
     ]
    }
   ],
   "source": [
    "%%time\n",
    "print('old mean', cv_data.mean())"
   ]
  },
  {
   "cell_type": "code",
   "execution_count": 30,
   "id": "91473992-6dc8-450e-9de6-3df337e18465",
   "metadata": {},
   "outputs": [
    {
     "name": "stdout",
     "output_type": "stream",
     "text": [
      "new mean 9.790931e-09\n",
      "Wall time: 27.8 s\n"
     ]
    }
   ],
   "source": [
    "%%time\n",
    "scaler = StandardScaler()\n",
    "scaled_images_cv  = scaler.fit_transform(cv_data.reshape(-1, 15*64*64))\n",
    "print('new mean',scaled_images_cv.mean())"
   ]
  },
  {
   "cell_type": "code",
   "execution_count": 31,
   "id": "d26cb645-8f0b-48b1-b79f-20bb509e2083",
   "metadata": {},
   "outputs": [
    {
     "name": "stdout",
     "output_type": "stream",
     "text": [
      "(7202, 15, 64, 64, 1)\n",
      "Wall time: 0 ns\n"
     ]
    }
   ],
   "source": [
    "%%time\n",
    "scaled_images_cv  = scaled_images_cv.reshape(-1, 15, 64, 64, 1)\n",
    "print(scaled_images_cv.shape)"
   ]
  },
  {
   "cell_type": "code",
   "execution_count": 42,
   "id": "6accd176-30e4-420b-9ace-e4437d61e2ad",
   "metadata": {},
   "outputs": [],
   "source": [
    "# My model\n",
    "class Conv3DModel(tf.keras.Model):\n",
    "    def __init__(self):\n",
    "        super(Conv3DModel, self).__init__()\n",
    "        self.conv1 = tf.compat.v2.keras.layers.Conv3D(32, (3, 3, 3), activation='relu', name=\"conv1\", data_format='channels_last')\n",
    "        self.pool1 = tf.keras.layers.MaxPool3D(pool_size=(2, 2, 2), data_format='channels_last')\n",
    "        self.conv2 = tf.compat.v2.keras.layers.Conv3D(64, (3, 3, 3), activation='relu', name=\"conv1\", data_format='channels_last')\n",
    "        self.pool2 = tf.keras.layers.MaxPool3D(pool_size=(2, 2,2), data_format='channels_last')\n",
    "   \n",
    "    # LSTM & Flatten\n",
    "        self.convLSTM =tf.keras.layers.ConvLSTM2D(40, (3, 3))\n",
    "        self.flatten =  tf.keras.layers.Flatten(name=\"flatten\")\n",
    "\n",
    "    # Dense layers\n",
    "        self.d1 = tf.keras.layers.Dense(128, activation='relu', name=\"d1\")\n",
    "        self.out = tf.keras.layers.Dense(7, activation='softmax', name=\"output\")\n",
    "    \n",
    "\n",
    "    def call(self, x):\n",
    "        x = self.conv1(x)\n",
    "        x = self.pool1(x)\n",
    "        x = self.conv2(x)\n",
    "        x = self.pool2(x)\n",
    "        x = self.convLSTM(x)\n",
    "    #x = self.pool2(x)\n",
    "    #x = self.conv3(x)\n",
    "    #x = self.pool3(x)\n",
    "        x = self.flatten(x)\n",
    "        x = self.d1(x)\n",
    "        return self.out(x)"
   ]
  },
  {
   "cell_type": "code",
   "execution_count": 43,
   "id": "9c7ef1ec-cb2d-4916-a307-ec0370514708",
   "metadata": {},
   "outputs": [],
   "source": [
    "model = Conv3DModel()"
   ]
  },
  {
   "cell_type": "code",
   "execution_count": 44,
   "id": "d34d3774-59a5-4230-8766-16bcf88caf9e",
   "metadata": {},
   "outputs": [],
   "source": [
    "model.compile(loss='sparse_categorical_crossentropy',\n",
    "              optimizer=tf.keras.optimizers.Adam(),\n",
    "              metrics = ['accuracy'])"
   ]
  },
  {
   "cell_type": "code",
   "execution_count": null,
   "id": "1b771860-059f-45ff-bfae-9e869512478a",
   "metadata": {},
   "outputs": [],
   "source": [
    "x_train = np.array(scaled_images)\n",
    "y_train = np.array(training_targets)\n",
    "x_val = np.array(scaled_images_cv)\n",
    "y_val = np.array(cv_targets)"
   ]
  },
  {
   "cell_type": "code",
   "execution_count": 35,
   "id": "12821f16-1c62-4b3e-9cc5-0f7222063708",
   "metadata": {},
   "outputs": [
    {
     "name": "stdout",
     "output_type": "stream",
     "text": [
      "(23000, 15, 64, 64, 1)\n",
      "(23000,)\n",
      "(7202, 15, 64, 64, 1)\n",
      "(7202,)\n"
     ]
    }
   ],
   "source": [
    "print(x_train.shape)\n",
    "print(y_train.shape)\n",
    "print(x_val.shape)\n",
    "print(y_val.shape)"
   ]
  },
  {
   "cell_type": "code",
   "execution_count": 45,
   "id": "a6ade553-bf2f-490e-b332-27f91433d57c",
   "metadata": {},
   "outputs": [],
   "source": [
    "checkpoint_path = \"train_todays/cp-{epoch:04d}.ckpt\"\n",
    "checkpoint_dir = os.path.dirname(checkpoint_path)"
   ]
  },
  {
   "cell_type": "code",
   "execution_count": 46,
   "id": "f035ef18-0724-49ee-8679-049f291868c9",
   "metadata": {},
   "outputs": [],
   "source": [
    "cp_callback = tf.keras.callbacks.ModelCheckpoint(\n",
    "    checkpoint_path, verbose=1, save_weights_only=True)"
   ]
  },
  {
   "cell_type": "code",
   "execution_count": null,
   "id": "c0c3238f-7f1f-4d12-90a9-db00d84acc47",
   "metadata": {},
   "outputs": [],
   "source": [
    "history = model.fit(x_train, y_train,\n",
    "                    callbacks = [cp_callback],\n",
    "                    validation_data=(x_val, y_val),\n",
    "                    batch_size=32,\n",
    "                    epochs=10)"
   ]
  },
  {
   "cell_type": "code",
   "execution_count": 48,
   "id": "bd522400-d016-4da9-9665-31699bcf2472",
   "metadata": {},
   "outputs": [
    {
     "data": {
      "text/plain": [
       "{'loss': [1.3415336608886719,\n",
       "  0.9766994714736938,\n",
       "  0.8025403618812561,\n",
       "  0.6502112150192261,\n",
       "  0.5043352842330933,\n",
       "  0.35424351692199707,\n",
       "  0.22955742478370667,\n",
       "  0.13747690618038177,\n",
       "  0.10485037416219711,\n",
       "  0.08542665839195251],\n",
       " 'accuracy': [0.4903913140296936,\n",
       "  0.6556521654129028,\n",
       "  0.723130464553833,\n",
       "  0.7795652151107788,\n",
       "  0.8262608647346497,\n",
       "  0.8829130530357361,\n",
       "  0.9243913292884827,\n",
       "  0.9566521644592285,\n",
       "  0.9683912992477417,\n",
       "  0.9720434546470642],\n",
       " 'val_loss': [1.1160802841186523,\n",
       "  0.9466859102249146,\n",
       "  0.8671624064445496,\n",
       "  0.8721331357955933,\n",
       "  0.9298349618911743,\n",
       "  1.0578817129135132,\n",
       "  1.1661666631698608,\n",
       "  1.4003756046295166,\n",
       "  1.55642569065094,\n",
       "  1.604585886001587],\n",
       " 'val_accuracy': [0.6024715304374695,\n",
       "  0.685226321220398,\n",
       "  0.7166064977645874,\n",
       "  0.7254928946495056,\n",
       "  0.722854733467102,\n",
       "  0.7207720279693604,\n",
       "  0.7088308930397034,\n",
       "  0.7029991745948792,\n",
       "  0.7089697122573853,\n",
       "  0.7043876647949219]}"
      ]
     },
     "execution_count": 48,
     "metadata": {},
     "output_type": "execute_result"
    }
   ],
   "source": [
    "history.history"
   ]
  },
  {
   "cell_type": "code",
   "execution_count": 49,
   "id": "bfb0e6bb-0a33-42ca-8fe0-e05a421d4e65",
   "metadata": {},
   "outputs": [],
   "source": [
    "model.save_weights('D:/3D-CNN/D/FinalModel/3D-CNN_LSTM_weights', save_format='tf')"
   ]
  },
  {
   "cell_type": "code",
   "execution_count": 50,
   "id": "58eb18c6-382d-498f-b8e4-265e23a575c9",
   "metadata": {},
   "outputs": [],
   "source": [
    "# USING ADV CODE:"
   ]
  },
  {
   "cell_type": "code",
   "execution_count": 32,
   "id": "1e11403e-b5b5-48d0-a4ad-a40023f8bcef",
   "metadata": {},
   "outputs": [],
   "source": [
    "class Conv3DModel(tf.keras.Model):\n",
    "    def __init__(self):\n",
    "        super(Conv3DModel, self).__init__()\n",
    "        self.conv1 = tf.compat.v2.keras.layers.Conv3D(32, (3, 3, 3), activation='relu', name=\"conv1\", data_format='channels_last')\n",
    "        self.pool1 = tf.keras.layers.MaxPool3D(pool_size=(2, 2, 2), data_format='channels_last')\n",
    "        self.conv2 = tf.compat.v2.keras.layers.Conv3D(64, (3, 3, 3), activation='relu', name=\"conv1\", data_format='channels_last')\n",
    "        self.pool2 = tf.keras.layers.MaxPool3D(pool_size=(2, 2,2), data_format='channels_last')\n",
    "   \n",
    "    # LSTM & Flatten\n",
    "        self.convLSTM =tf.keras.layers.ConvLSTM2D(40, (3, 3))\n",
    "        self.flatten =  tf.keras.layers.Flatten(name=\"flatten\")\n",
    "\n",
    "    # Dense layers\n",
    "        self.d1 = tf.keras.layers.Dense(128, activation='relu', name=\"d1\")\n",
    "        self.out = tf.keras.layers.Dense(7, activation='softmax', name=\"output\")\n",
    "    \n",
    "\n",
    "    def call(self, x):\n",
    "        x = self.conv1(x)\n",
    "        x = self.pool1(x)\n",
    "        x = self.conv2(x)\n",
    "        x = self.pool2(x)\n",
    "        x = self.convLSTM(x)\n",
    "    #x = self.pool2(x)\n",
    "    #x = self.conv3(x)\n",
    "    #x = self.pool3(x)\n",
    "        x = self.flatten(x)\n",
    "        x = self.d1(x)\n",
    "        return self.out(x)"
   ]
  },
  {
   "cell_type": "code",
   "execution_count": 33,
   "id": "147028f3-7dc9-4d9a-8006-99d3b23d6e21",
   "metadata": {},
   "outputs": [],
   "source": [
    "model = Conv3DModel()"
   ]
  },
  {
   "cell_type": "code",
   "execution_count": 34,
   "id": "266a740e-a714-47cc-8f62-21b07d055487",
   "metadata": {},
   "outputs": [],
   "source": [
    "train_dataset = tf.data.Dataset.from_tensor_slices((scaled_images, training_targets))\n",
    "cv_dataset = tf.data.Dataset.from_tensor_slices((scaled_images_cv, cv_targets))"
   ]
  },
  {
   "cell_type": "code",
   "execution_count": 35,
   "id": "47e67c9d-21db-4418-98eb-e1bccd4dc844",
   "metadata": {},
   "outputs": [
    {
     "data": {
      "text/plain": [
       "<tf.Tensor: shape=(2, 7), dtype=float32, numpy=\n",
       "array([[0.15522437, 0.13266416, 0.13334297, 0.14805256, 0.12308123,\n",
       "        0.15356319, 0.15407152],\n",
       "       [0.1556905 , 0.1305005 , 0.132331  , 0.15028338, 0.119919  ,\n",
       "        0.15529129, 0.1559843 ]], dtype=float32)>"
      ]
     },
     "execution_count": 35,
     "metadata": {},
     "output_type": "execute_result"
    }
   ],
   "source": [
    "model(scaled_images[0:2])"
   ]
  },
  {
   "cell_type": "code",
   "execution_count": 36,
   "id": "a082e11a-b3bc-4584-8236-2504ede6b127",
   "metadata": {},
   "outputs": [
    {
     "name": "stdout",
     "output_type": "stream",
     "text": [
      "Model: \"conv3d_model\"\n",
      "_________________________________________________________________\n",
      "Layer (type)                 Output Shape              Param #   \n",
      "=================================================================\n",
      "conv1 (Conv3D)               multiple                  896       \n",
      "_________________________________________________________________\n",
      "max_pooling3d (MaxPooling3D) multiple                  0         \n",
      "_________________________________________________________________\n",
      "conv1 (Conv3D)               multiple                  55360     \n",
      "_________________________________________________________________\n",
      "max_pooling3d_1 (MaxPooling3 multiple                  0         \n",
      "_________________________________________________________________\n",
      "conv_lst_m2d (ConvLSTM2D)    multiple                  149920    \n",
      "_________________________________________________________________\n",
      "flatten (Flatten)            multiple                  0         \n",
      "_________________________________________________________________\n",
      "d1 (Dense)                   multiple                  737408    \n",
      "_________________________________________________________________\n",
      "output (Dense)               multiple                  903       \n",
      "=================================================================\n",
      "Total params: 944,487\n",
      "Trainable params: 944,487\n",
      "Non-trainable params: 0\n",
      "_________________________________________________________________\n"
     ]
    }
   ],
   "source": [
    "model.summary()"
   ]
  },
  {
   "cell_type": "code",
   "execution_count": 38,
   "id": "a876a3ed-c3cf-4d1b-bdab-870c16384e71",
   "metadata": {},
   "outputs": [],
   "source": [
    "loss_fn = tf.keras.losses.SparseCategoricalCrossentropy()\n",
    "optimizer = tf.keras.optimizers.Adam()"
   ]
  },
  {
   "cell_type": "code",
   "execution_count": 39,
   "id": "bac123ae-e7e9-4541-96c9-f3035b7b00c3",
   "metadata": {},
   "outputs": [],
   "source": [
    "train_loss = tf.keras.metrics.Mean(name='train_loss')\n",
    "valid_loss = tf.keras.metrics.Mean(name='valid_loss')\n",
    "\n",
    "train_accuracy = tf.keras.metrics.SparseCategoricalAccuracy(name='train_accuracy')\n",
    "valid_accuracy = tf.keras.metrics.SparseCategoricalAccuracy(name='valid_accuracy')"
   ]
  },
  {
   "cell_type": "code",
   "execution_count": 40,
   "id": "e08e1a00-d6eb-4d2e-9be3-0c85b4abfb7a",
   "metadata": {},
   "outputs": [],
   "source": [
    "@tf.function\n",
    "def train_step(image, targets):\n",
    "    with tf.GradientTape() as tape:\n",
    "        # Make a prediction on all the batch\n",
    "        predictions = model(image)\n",
    "        # Get the error/loss on these predictions\n",
    "        loss = loss_fn(targets, predictions)\n",
    "    # Compute the gradient which respect to the loss\n",
    "    grads = tape.gradient(loss, model.trainable_variables)\n",
    "    # Change the weights of the model\n",
    "    optimizer.apply_gradients(zip(grads, model.trainable_variables))\n",
    "    # The metrics are accumulate over time. You don't need to average it yourself.\n",
    "    train_loss(loss)\n",
    "    train_accuracy(targets, predictions)"
   ]
  },
  {
   "cell_type": "code",
   "execution_count": 41,
   "id": "f30ea75a-c044-4964-938f-7aa2042cc170",
   "metadata": {},
   "outputs": [],
   "source": [
    "@tf.function\n",
    "def valid_step(image, targets):\n",
    "    predictions = model(image)\n",
    "    t_loss = loss_fn(targets, predictions)\n",
    "    # Set the metrics for the test\n",
    "    valid_loss(t_loss)\n",
    "    valid_accuracy(targets, predictions)"
   ]
  },
  {
   "cell_type": "code",
   "execution_count": 42,
   "id": "df436b1e-72e3-4199-b3b2-2fcdc1c09914",
   "metadata": {},
   "outputs": [
    {
     "data": {
      "text/plain": [
       "<tensorflow.python.training.tracking.util.InitializationOnlyStatus at 0x1427744cca0>"
      ]
     },
     "execution_count": 42,
     "metadata": {},
     "output_type": "execute_result"
    }
   ],
   "source": [
    "ckpt = tf.train.Checkpoint(step=tf.Variable(1), optimizer=optimizer, model=model)\n",
    "manager = tf.train.CheckpointManager(ckpt, 'last_new_today/all_fk_ckpts', max_to_keep=10)\n",
    "ckpt.restore(manager.latest_checkpoint)"
   ]
  },
  {
   "cell_type": "code",
   "execution_count": null,
   "id": "bfbe0f02-1a76-4fc4-9a59-e555b18ca46d",
   "metadata": {},
   "outputs": [],
   "source": [
    "epoch = 10\n",
    "batch_size = 32\n",
    "b = 0\n",
    "training_acc = []\n",
    "validation_acc = []\n",
    "\n",
    "for epoch in range(epoch):\n",
    "    # Training set\n",
    "    for images_batch, targets_batch in train_dataset.batch(batch_size):\n",
    "        train_step(images_batch, targets_batch)\n",
    "        template = '\\r Batch {}/{}, Loss: {}, Accuracy: {}'\n",
    "        print(template.format(\n",
    "            b, len(training_targets), train_loss.result(), \n",
    "            train_accuracy.result()*100\n",
    "        ), end=\"\")\n",
    "        b += batch_size\n",
    "\n",
    "    # Validation set\n",
    "    for images_batch, targets_batch in cv_dataset.batch(batch_size):\n",
    "        valid_step(images_batch, targets_batch)\n",
    "        template = '\\nEpoch {}, Valid Loss: {}, Valid Accuracy: {}'\n",
    "        print(template.format(\n",
    "            epoch+1,\n",
    "            valid_loss.result(), \n",
    "            valid_accuracy.result()*100)\n",
    "    )\n",
    "\n",
    "    training_acc.append(float(train_accuracy.result()*100))\n",
    "    validation_acc.append(float(valid_accuracy.result()*100))\n",
    "    ckpt.step.assign_add(1)\n",
    "    save_path = manager.save()\n",
    "    print(\"Saved checkpoint for step {}: {}\".format(int(ckpt.step), save_path))\n",
    "    valid_loss.reset_states()\n",
    "    valid_accuracy.reset_states()\n",
    "    train_accuracy.reset_states()\n",
    "    train_loss.reset_states()\n",
    "\n",
    "print(manager.checkpoints)"
   ]
  },
  {
   "cell_type": "code",
   "execution_count": 44,
   "id": "a9ad5acb-381c-4042-b2fa-eadb0369a5a7",
   "metadata": {},
   "outputs": [],
   "source": [
    "model.save_weights('D:/3D-CNN/D/All_Models/3D-CNN_LSTM_Adv_weights', save_format='tf')"
   ]
  },
  {
   "cell_type": "code",
   "execution_count": 58,
   "id": "c26d88b9-fe34-4f34-ae0b-2a3bbf9d96c3",
   "metadata": {},
   "outputs": [
    {
     "name": "stdout",
     "output_type": "stream",
     "text": [
      "['last_new_today/all_fk_ckpts\\\\ckpt-1', 'last_new_today/all_fk_ckpts\\\\ckpt-2', 'last_new_today/all_fk_ckpts\\\\ckpt-3', 'last_new_today/all_fk_ckpts\\\\ckpt-4', 'last_new_today/all_fk_ckpts\\\\ckpt-5', 'last_new_today/all_fk_ckpts\\\\ckpt-6', 'last_new_today/all_fk_ckpts\\\\ckpt-7', 'last_new_today/all_fk_ckpts\\\\ckpt-8', 'last_new_today/all_fk_ckpts\\\\ckpt-9', 'last_new_today/all_fk_ckpts\\\\ckpt-10']\n"
     ]
    }
   ],
   "source": [
    "print(manager.checkpoints)"
   ]
  },
  {
   "cell_type": "code",
   "execution_count": 48,
   "id": "cd392789",
   "metadata": {},
   "outputs": [
    {
     "data": {
      "image/png": "[encoded data removed]",
      "text/plain": [
       "<Figure size 432x288 with 1 Axes>"
      ]
     },
     "metadata": {
      "needs_background": "light"
     },
     "output_type": "display_data"
    }
   ],
   "source": [
    "plt.plot([1,2,3,4,5,6,7,8,9,10],training_acc, '-' )\n",
    "plt.plot([1,2,3,4,5,6,7,8,9,10],validation_acc, '-' )\n",
    "\n",
    "plt.ylabel('Accuracy')\n",
    "plt.xlabel('Epochs')\n",
    "plt.show()"
   ]
  }
 ],
 "metadata": {
  "kernelspec": {
   "display_name": "newdeep",
   "language": "python",
   "name": "other-env"
  },
  "language_info": {
   "codemirror_mode": {
    "name": "ipython",
    "version": 3
   },
   "file_extension": ".py",
   "mimetype": "text/x-python",
   "name": "python",
   "nbconvert_exporter": "python",
   "pygments_lexer": "ipython3",
   "version": "3.8.10"
  }
 },
 "nbformat": 4,
 "nbformat_minor": 5
}
